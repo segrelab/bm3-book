{
 "cells": [
  {
   "cell_type": "markdown",
   "metadata": {
    "collapsed": false,
    "pycharm": {
     "name": "#%% md\n"
    }
   },
   "source": [
    "# Graphical Solution"
   ]
  },
  {
   "cell_type": "markdown",
   "metadata": {},
   "source": [
    "## Some algebra review\n",
    "<!-- TODO: Change to a note box -->\n",
    "Suppose you have two constraints as follows:\n",
    "2x1 + 3x2 ≤ 34\n",
    "3x1 + 5x2 ≤ 54\n",
    "Also assume that x1 and x2 are objects and must be ≥ 0.\n",
    "You can graph these inequalities…"
   ]
  },
  {
   "cell_type": "markdown",
   "metadata": {},
   "source": [
    "## Graphical Optimization\n",
    "The overlap of these graphs is known as the feasible region. A solution to the problem must lie in the region in order to obey both of the constraints. \n",
    "<!-- TODO: insert image -->"
   ]
  },
  {
   "cell_type": "markdown",
   "metadata": {},
   "source": [
    "And, because the constraints are linear, the maximum and minimum must lie on the boundary.\n",
    "<!-- TODO: insert image -->"
   ]
  },
  {
   "cell_type": "markdown",
   "metadata": {},
   "source": [
    "In fact, it is most likely that the optimum occurs at one of the corner points. \n",
    "We can even find the values of the corner points with a little algebra…\n",
    "<!-- TODO: Work math on an example -->\n",
    "Point out that the inequalities dropped away because we’re focusing on the boundary.\n",
    "\n",
    "## Practice problem\n",
    "Suppose a company hires both experienced and inexperienced workers. \n",
    "Experienced workers are paid $15/hour and inexperienced workers are paid $10/hour. The company can spend $1200/hour on labor.\n",
    "Experienced workers require an average of 1 minute an hour of contact with a supervisor; inexperienced workers require 2. There are two supervisors who can provide 120 minutes in an hour.\n",
    "2. Convert both of these into inequality constraints. Graph them, find the feasible region, and find all four corner points.\n",
    "\n",
    "<!-- The constraints are:\n",
    "15x1 + 10x2 ≤ 1200\n",
    "1x1 + 2x2 ≤ 120\n",
    "\n",
    "The graph is a typical quadrilateral; corner points are at (0, 0), (80, 0), (0, 60) and (60, 30).\n",
    "-->\n",
    "\n",
    "\n",
    "## Enter the Objective Function\n",
    "After you have the feasible region and the corner points, it’s time to consider the objective function. \n",
    "\n",
    "A way to find the optimum without plugging in points is to sketch the slope of the objective function on the graph.\n",
    "If you drag the slope line to the\n",
    "right, you can see that the last \n",
    "place it touches the feasible region is (17, 0). This will be the best point."
   ]
  },
  {
   "cell_type": "code",
   "execution_count": 7,
   "metadata": {
    "collapsed": false,
    "pycharm": {
     "name": "#%%\n"
    },
    "tags": [
     "remove-input"
    ]
   },
   "outputs": [
    {
     "data": {
      "application/vnd.plotly.v1+json": {
       "config": {
        "plotlyServerURL": "https://plot.ly"
       },
       "data": [
        {
         "fill": "tozeroy",
         "mode": "none",
         "name": "2x + 3y <= 25",
         "type": "scatter",
         "x": [
          0,
          0.2653061224489796,
          0.5306122448979592,
          0.7959183673469388,
          1.0612244897959184,
          1.326530612244898,
          1.5918367346938775,
          1.8571428571428572,
          2.122448979591837,
          2.3877551020408165,
          2.653061224489796,
          2.918367346938776,
          3.183673469387755,
          3.4489795918367347,
          3.7142857142857144,
          3.979591836734694,
          4.244897959183674,
          4.510204081632653,
          4.775510204081633,
          5.040816326530613,
          5.306122448979592,
          5.571428571428572,
          5.836734693877552,
          6.102040816326531,
          6.36734693877551,
          6.63265306122449,
          6.8979591836734695,
          7.163265306122449,
          7.428571428571429,
          7.6938775510204085,
          7.959183673469388,
          8.224489795918368,
          8.489795918367347,
          8.755102040816327,
          9.020408163265307,
          9.285714285714286,
          9.551020408163266,
          9.816326530612246,
          10.081632653061225,
          10.346938775510205,
          10.612244897959185,
          10.877551020408164,
          11.142857142857144,
          11.408163265306124,
          11.673469387755103,
          11.938775510204083,
          12.204081632653063,
          12.469387755102042,
          12.73469387755102,
          13
         ],
         "y": [
          8.333333333333334,
          8.156462585034014,
          7.979591836734694,
          7.802721088435374,
          7.625850340136054,
          7.448979591836735,
          7.272108843537414,
          7.095238095238095,
          6.918367346938775,
          6.741496598639455,
          6.564625850340136,
          6.387755102040816,
          6.210884353741496,
          6.034013605442176,
          5.857142857142857,
          5.680272108843536,
          5.503401360544217,
          5.326530612244897,
          5.149659863945578,
          4.9727891156462585,
          4.795918367346938,
          4.619047619047619,
          4.442176870748299,
          4.265306122448979,
          4.08843537414966,
          3.9115646258503403,
          3.7346938775510203,
          3.5578231292517004,
          3.380952380952381,
          3.204081632653061,
          3.027210884353741,
          2.8503401360544216,
          2.6734693877551017,
          2.4965986394557818,
          2.3197278911564623,
          2.1428571428571423,
          1.9659863945578226,
          1.7891156462585027,
          1.612244897959183,
          1.4353741496598633,
          1.2585034013605434,
          1.0816326530612237,
          0.9047619047619039,
          0.7278911564625842,
          0.5510204081632644,
          0.3741496598639446,
          0.19727891156462482,
          0.020408163265305035,
          -0.15646258503401356,
          -0.3333333333333333
         ]
        },
        {
         "fill": "tozeroy",
         "mode": "none",
         "name": "6x + 3y <= 45",
         "type": "scatter",
         "x": [
          0,
          0.2653061224489796,
          0.5306122448979592,
          0.7959183673469388,
          1.0612244897959184,
          1.326530612244898,
          1.5918367346938775,
          1.8571428571428572,
          2.122448979591837,
          2.3877551020408165,
          2.653061224489796,
          2.918367346938776,
          3.183673469387755,
          3.4489795918367347,
          3.7142857142857144,
          3.979591836734694,
          4.244897959183674,
          4.510204081632653,
          4.775510204081633,
          5.040816326530613,
          5.306122448979592,
          5.571428571428572,
          5.836734693877552,
          6.102040816326531,
          6.36734693877551,
          6.63265306122449,
          6.8979591836734695,
          7.163265306122449,
          7.428571428571429,
          7.6938775510204085,
          7.959183673469388,
          8.224489795918368,
          8.489795918367347,
          8.755102040816327,
          9.020408163265307,
          9.285714285714286,
          9.551020408163266,
          9.816326530612246,
          10.081632653061225,
          10.346938775510205,
          10.612244897959185,
          10.877551020408164,
          11.142857142857144,
          11.408163265306124,
          11.673469387755103,
          11.938775510204083,
          12.204081632653063,
          12.469387755102042,
          12.73469387755102,
          13
         ],
         "y": [
          15,
          14.46938775510204,
          13.938775510204081,
          13.408163265306122,
          12.877551020408163,
          12.346938775510203,
          11.816326530612244,
          11.285714285714286,
          10.755102040816325,
          10.224489795918368,
          9.693877551020408,
          9.16326530612245,
          8.63265306122449,
          8.10204081632653,
          7.571428571428572,
          7.040816326530613,
          6.510204081632653,
          5.979591836734694,
          5.448979591836735,
          4.918367346938775,
          4.387755102040816,
          3.8571428571428563,
          3.326530612244897,
          2.7959183673469377,
          2.265306122448981,
          1.7346938775510192,
          1.2040816326530621,
          0.6734693877551005,
          0.14285714285714354,
          -0.38775510204081814,
          -0.9183673469387751,
          -1.4489795918367367,
          -1.9795918367346939,
          -2.5102040816326556,
          -3.0408163265306123,
          -3.5714285714285743,
          -4.102040816326531,
          -4.6326530612244925,
          -5.16326530612245,
          -5.693877551020411,
          -6.224489795918369,
          -6.75510204081633,
          -7.285714285714287,
          -7.8163265306122485,
          -8.346938775510205,
          -8.877551020408168,
          -9.408163265306124,
          -9.938775510204087,
          -10.469387755102039,
          -11
         ]
        }
       ],
       "layout": {
        "template": {
         "data": {
          "bar": [
           {
            "error_x": {
             "color": "#2a3f5f"
            },
            "error_y": {
             "color": "#2a3f5f"
            },
            "marker": {
             "line": {
              "color": "#E5ECF6",
              "width": 0.5
             },
             "pattern": {
              "fillmode": "overlay",
              "size": 10,
              "solidity": 0.2
             }
            },
            "type": "bar"
           }
          ],
          "barpolar": [
           {
            "marker": {
             "line": {
              "color": "#E5ECF6",
              "width": 0.5
             },
             "pattern": {
              "fillmode": "overlay",
              "size": 10,
              "solidity": 0.2
             }
            },
            "type": "barpolar"
           }
          ],
          "carpet": [
           {
            "aaxis": {
             "endlinecolor": "#2a3f5f",
             "gridcolor": "white",
             "linecolor": "white",
             "minorgridcolor": "white",
             "startlinecolor": "#2a3f5f"
            },
            "baxis": {
             "endlinecolor": "#2a3f5f",
             "gridcolor": "white",
             "linecolor": "white",
             "minorgridcolor": "white",
             "startlinecolor": "#2a3f5f"
            },
            "type": "carpet"
           }
          ],
          "choropleth": [
           {
            "colorbar": {
             "outlinewidth": 0,
             "ticks": ""
            },
            "type": "choropleth"
           }
          ],
          "contour": [
           {
            "colorbar": {
             "outlinewidth": 0,
             "ticks": ""
            },
            "colorscale": [
             [
              0,
              "#0d0887"
             ],
             [
              0.1111111111111111,
              "#46039f"
             ],
             [
              0.2222222222222222,
              "#7201a8"
             ],
             [
              0.3333333333333333,
              "#9c179e"
             ],
             [
              0.4444444444444444,
              "#bd3786"
             ],
             [
              0.5555555555555556,
              "#d8576b"
             ],
             [
              0.6666666666666666,
              "#ed7953"
             ],
             [
              0.7777777777777778,
              "#fb9f3a"
             ],
             [
              0.8888888888888888,
              "#fdca26"
             ],
             [
              1,
              "#f0f921"
             ]
            ],
            "type": "contour"
           }
          ],
          "contourcarpet": [
           {
            "colorbar": {
             "outlinewidth": 0,
             "ticks": ""
            },
            "type": "contourcarpet"
           }
          ],
          "heatmap": [
           {
            "colorbar": {
             "outlinewidth": 0,
             "ticks": ""
            },
            "colorscale": [
             [
              0,
              "#0d0887"
             ],
             [
              0.1111111111111111,
              "#46039f"
             ],
             [
              0.2222222222222222,
              "#7201a8"
             ],
             [
              0.3333333333333333,
              "#9c179e"
             ],
             [
              0.4444444444444444,
              "#bd3786"
             ],
             [
              0.5555555555555556,
              "#d8576b"
             ],
             [
              0.6666666666666666,
              "#ed7953"
             ],
             [
              0.7777777777777778,
              "#fb9f3a"
             ],
             [
              0.8888888888888888,
              "#fdca26"
             ],
             [
              1,
              "#f0f921"
             ]
            ],
            "type": "heatmap"
           }
          ],
          "heatmapgl": [
           {
            "colorbar": {
             "outlinewidth": 0,
             "ticks": ""
            },
            "colorscale": [
             [
              0,
              "#0d0887"
             ],
             [
              0.1111111111111111,
              "#46039f"
             ],
             [
              0.2222222222222222,
              "#7201a8"
             ],
             [
              0.3333333333333333,
              "#9c179e"
             ],
             [
              0.4444444444444444,
              "#bd3786"
             ],
             [
              0.5555555555555556,
              "#d8576b"
             ],
             [
              0.6666666666666666,
              "#ed7953"
             ],
             [
              0.7777777777777778,
              "#fb9f3a"
             ],
             [
              0.8888888888888888,
              "#fdca26"
             ],
             [
              1,
              "#f0f921"
             ]
            ],
            "type": "heatmapgl"
           }
          ],
          "histogram": [
           {
            "marker": {
             "pattern": {
              "fillmode": "overlay",
              "size": 10,
              "solidity": 0.2
             }
            },
            "type": "histogram"
           }
          ],
          "histogram2d": [
           {
            "colorbar": {
             "outlinewidth": 0,
             "ticks": ""
            },
            "colorscale": [
             [
              0,
              "#0d0887"
             ],
             [
              0.1111111111111111,
              "#46039f"
             ],
             [
              0.2222222222222222,
              "#7201a8"
             ],
             [
              0.3333333333333333,
              "#9c179e"
             ],
             [
              0.4444444444444444,
              "#bd3786"
             ],
             [
              0.5555555555555556,
              "#d8576b"
             ],
             [
              0.6666666666666666,
              "#ed7953"
             ],
             [
              0.7777777777777778,
              "#fb9f3a"
             ],
             [
              0.8888888888888888,
              "#fdca26"
             ],
             [
              1,
              "#f0f921"
             ]
            ],
            "type": "histogram2d"
           }
          ],
          "histogram2dcontour": [
           {
            "colorbar": {
             "outlinewidth": 0,
             "ticks": ""
            },
            "colorscale": [
             [
              0,
              "#0d0887"
             ],
             [
              0.1111111111111111,
              "#46039f"
             ],
             [
              0.2222222222222222,
              "#7201a8"
             ],
             [
              0.3333333333333333,
              "#9c179e"
             ],
             [
              0.4444444444444444,
              "#bd3786"
             ],
             [
              0.5555555555555556,
              "#d8576b"
             ],
             [
              0.6666666666666666,
              "#ed7953"
             ],
             [
              0.7777777777777778,
              "#fb9f3a"
             ],
             [
              0.8888888888888888,
              "#fdca26"
             ],
             [
              1,
              "#f0f921"
             ]
            ],
            "type": "histogram2dcontour"
           }
          ],
          "mesh3d": [
           {
            "colorbar": {
             "outlinewidth": 0,
             "ticks": ""
            },
            "type": "mesh3d"
           }
          ],
          "parcoords": [
           {
            "line": {
             "colorbar": {
              "outlinewidth": 0,
              "ticks": ""
             }
            },
            "type": "parcoords"
           }
          ],
          "pie": [
           {
            "automargin": true,
            "type": "pie"
           }
          ],
          "scatter": [
           {
            "fillpattern": {
             "fillmode": "overlay",
             "size": 10,
             "solidity": 0.2
            },
            "type": "scatter"
           }
          ],
          "scatter3d": [
           {
            "line": {
             "colorbar": {
              "outlinewidth": 0,
              "ticks": ""
             }
            },
            "marker": {
             "colorbar": {
              "outlinewidth": 0,
              "ticks": ""
             }
            },
            "type": "scatter3d"
           }
          ],
          "scattercarpet": [
           {
            "marker": {
             "colorbar": {
              "outlinewidth": 0,
              "ticks": ""
             }
            },
            "type": "scattercarpet"
           }
          ],
          "scattergeo": [
           {
            "marker": {
             "colorbar": {
              "outlinewidth": 0,
              "ticks": ""
             }
            },
            "type": "scattergeo"
           }
          ],
          "scattergl": [
           {
            "marker": {
             "colorbar": {
              "outlinewidth": 0,
              "ticks": ""
             }
            },
            "type": "scattergl"
           }
          ],
          "scattermapbox": [
           {
            "marker": {
             "colorbar": {
              "outlinewidth": 0,
              "ticks": ""
             }
            },
            "type": "scattermapbox"
           }
          ],
          "scatterpolar": [
           {
            "marker": {
             "colorbar": {
              "outlinewidth": 0,
              "ticks": ""
             }
            },
            "type": "scatterpolar"
           }
          ],
          "scatterpolargl": [
           {
            "marker": {
             "colorbar": {
              "outlinewidth": 0,
              "ticks": ""
             }
            },
            "type": "scatterpolargl"
           }
          ],
          "scatterternary": [
           {
            "marker": {
             "colorbar": {
              "outlinewidth": 0,
              "ticks": ""
             }
            },
            "type": "scatterternary"
           }
          ],
          "surface": [
           {
            "colorbar": {
             "outlinewidth": 0,
             "ticks": ""
            },
            "colorscale": [
             [
              0,
              "#0d0887"
             ],
             [
              0.1111111111111111,
              "#46039f"
             ],
             [
              0.2222222222222222,
              "#7201a8"
             ],
             [
              0.3333333333333333,
              "#9c179e"
             ],
             [
              0.4444444444444444,
              "#bd3786"
             ],
             [
              0.5555555555555556,
              "#d8576b"
             ],
             [
              0.6666666666666666,
              "#ed7953"
             ],
             [
              0.7777777777777778,
              "#fb9f3a"
             ],
             [
              0.8888888888888888,
              "#fdca26"
             ],
             [
              1,
              "#f0f921"
             ]
            ],
            "type": "surface"
           }
          ],
          "table": [
           {
            "cells": {
             "fill": {
              "color": "#EBF0F8"
             },
             "line": {
              "color": "white"
             }
            },
            "header": {
             "fill": {
              "color": "#C8D4E3"
             },
             "line": {
              "color": "white"
             }
            },
            "type": "table"
           }
          ]
         },
         "layout": {
          "annotationdefaults": {
           "arrowcolor": "#2a3f5f",
           "arrowhead": 0,
           "arrowwidth": 1
          },
          "autotypenumbers": "strict",
          "coloraxis": {
           "colorbar": {
            "outlinewidth": 0,
            "ticks": ""
           }
          },
          "colorscale": {
           "diverging": [
            [
             0,
             "#8e0152"
            ],
            [
             0.1,
             "#c51b7d"
            ],
            [
             0.2,
             "#de77ae"
            ],
            [
             0.3,
             "#f1b6da"
            ],
            [
             0.4,
             "#fde0ef"
            ],
            [
             0.5,
             "#f7f7f7"
            ],
            [
             0.6,
             "#e6f5d0"
            ],
            [
             0.7,
             "#b8e186"
            ],
            [
             0.8,
             "#7fbc41"
            ],
            [
             0.9,
             "#4d9221"
            ],
            [
             1,
             "#276419"
            ]
           ],
           "sequential": [
            [
             0,
             "#0d0887"
            ],
            [
             0.1111111111111111,
             "#46039f"
            ],
            [
             0.2222222222222222,
             "#7201a8"
            ],
            [
             0.3333333333333333,
             "#9c179e"
            ],
            [
             0.4444444444444444,
             "#bd3786"
            ],
            [
             0.5555555555555556,
             "#d8576b"
            ],
            [
             0.6666666666666666,
             "#ed7953"
            ],
            [
             0.7777777777777778,
             "#fb9f3a"
            ],
            [
             0.8888888888888888,
             "#fdca26"
            ],
            [
             1,
             "#f0f921"
            ]
           ],
           "sequentialminus": [
            [
             0,
             "#0d0887"
            ],
            [
             0.1111111111111111,
             "#46039f"
            ],
            [
             0.2222222222222222,
             "#7201a8"
            ],
            [
             0.3333333333333333,
             "#9c179e"
            ],
            [
             0.4444444444444444,
             "#bd3786"
            ],
            [
             0.5555555555555556,
             "#d8576b"
            ],
            [
             0.6666666666666666,
             "#ed7953"
            ],
            [
             0.7777777777777778,
             "#fb9f3a"
            ],
            [
             0.8888888888888888,
             "#fdca26"
            ],
            [
             1,
             "#f0f921"
            ]
           ]
          },
          "colorway": [
           "#636efa",
           "#EF553B",
           "#00cc96",
           "#ab63fa",
           "#FFA15A",
           "#19d3f3",
           "#FF6692",
           "#B6E880",
           "#FF97FF",
           "#FECB52"
          ],
          "font": {
           "color": "#2a3f5f"
          },
          "geo": {
           "bgcolor": "white",
           "lakecolor": "white",
           "landcolor": "#E5ECF6",
           "showlakes": true,
           "showland": true,
           "subunitcolor": "white"
          },
          "hoverlabel": {
           "align": "left"
          },
          "hovermode": "closest",
          "mapbox": {
           "style": "light"
          },
          "paper_bgcolor": "white",
          "plot_bgcolor": "#E5ECF6",
          "polar": {
           "angularaxis": {
            "gridcolor": "white",
            "linecolor": "white",
            "ticks": ""
           },
           "bgcolor": "#E5ECF6",
           "radialaxis": {
            "gridcolor": "white",
            "linecolor": "white",
            "ticks": ""
           }
          },
          "scene": {
           "xaxis": {
            "backgroundcolor": "#E5ECF6",
            "gridcolor": "white",
            "gridwidth": 2,
            "linecolor": "white",
            "showbackground": true,
            "ticks": "",
            "zerolinecolor": "white"
           },
           "yaxis": {
            "backgroundcolor": "#E5ECF6",
            "gridcolor": "white",
            "gridwidth": 2,
            "linecolor": "white",
            "showbackground": true,
            "ticks": "",
            "zerolinecolor": "white"
           },
           "zaxis": {
            "backgroundcolor": "#E5ECF6",
            "gridcolor": "white",
            "gridwidth": 2,
            "linecolor": "white",
            "showbackground": true,
            "ticks": "",
            "zerolinecolor": "white"
           }
          },
          "shapedefaults": {
           "line": {
            "color": "#2a3f5f"
           }
          },
          "ternary": {
           "aaxis": {
            "gridcolor": "white",
            "linecolor": "white",
            "ticks": ""
           },
           "baxis": {
            "gridcolor": "white",
            "linecolor": "white",
            "ticks": ""
           },
           "bgcolor": "#E5ECF6",
           "caxis": {
            "gridcolor": "white",
            "linecolor": "white",
            "ticks": ""
           }
          },
          "title": {
           "x": 0.05
          },
          "xaxis": {
           "automargin": true,
           "gridcolor": "white",
           "linecolor": "white",
           "ticks": "",
           "title": {
            "standoff": 15
           },
           "zerolinecolor": "white",
           "zerolinewidth": 2
          },
          "yaxis": {
           "automargin": true,
           "gridcolor": "white",
           "linecolor": "white",
           "ticks": "",
           "title": {
            "standoff": 15
           },
           "zerolinecolor": "white",
           "zerolinewidth": 2
          }
         }
        },
        "yaxis": {
         "constrain": "domain",
         "range": [
          0,
          15
         ]
        }
       }
      }
     },
     "metadata": {},
     "output_type": "display_data"
    }
   ],
   "source": [
    "import plotly.graph_objects as go\n",
    "import numpy as np\n",
    "\n",
    "# Create figure\n",
    "fig = go.Figure()\n",
    "\n",
    "# Plot the inequality 2x + 3y <= 25\n",
    "x = np.linspace(0, 13, 50)\n",
    "y = (25 - 2*x)/3\n",
    "fig.add_trace(go.Scatter(x=x, y=y, mode='none', name='2x + 3y <= 25', fill='tozeroy'))\n",
    "\n",
    "# Plot the inequality 6x + 3y <= 45\n",
    "y = (45 - 6*x)/3\n",
    "fig.add_trace(go.Scatter(x=x, y=y, mode='none', name='6x + 3y <= 45', fill='tozeroy'))\n",
    "\n",
    "# Add traces, one for each slider step\n",
    "for step in np.arange(0, 100, 1):\n",
    "    fig.add_trace(\n",
    "        go.Scatter(\n",
    "            visible=False,\n",
    "            line=dict(color=\"#00CED1\", width=6),\n",
    "            name=\"𝜈 = \" + str(step),\n",
    "            y=(step - 7*x)/8\n",
    "            )\n",
    "        )\n",
    "\n",
    "# # Make 10th trace visible\n",
    "fig.data[10].visible = True\n",
    "\n",
    "# Create and add slider\n",
    "steps = []\n",
    "for i in range(len(fig.data)):\n",
    "    step = dict(\n",
    "        method=\"update\",\n",
    "        args=[{\"visible\": [False] * len(fig.data)},\n",
    "              {\"title\": \"Slider switched to step: \" + str(i)}],  # layout attribute\n",
    "    )\n",
    "    step[\"args\"][0][\"visible\"][i] = True  # Toggle i'th trace to \"visible\"\n",
    "    steps.append(step)\n",
    "\n",
    "sliders = [dict(\n",
    "    active=10,\n",
    "    currentvalue={\"prefix\": \"Slack variable: \"},\n",
    "    pad={\"t\": 50},\n",
    "    steps=steps\n",
    ")]\n",
    "\n",
    "fig.update_layout(\n",
    "    sliders=sliders\n",
    ")\n",
    "\n",
    "fig.update_yaxes(\n",
    "    range=(0, 15),\n",
    "    constrain='domain'\n",
    ")\n",
    "\n",
    "fig.show()"
   ]
  },
  {
   "cell_type": "markdown",
   "metadata": {},
   "source": [
    "Another way to optimize is to find the value of the objective function by plugging in each point, then choose the best one.\n",
    "<!-- TODO: Values for an example -->\n",
    "\n",
    "## Practice Problem\n",
    "Write and optimize each objective function using your graph and points from problem 2. First plug in all the points to find the maximum, then use the slope of the objective function to verify your answer.\n",
    "3a. The company finds that experienced workers complete 10 tasks per minute, while inexperienced workers only complete 9. Maximize task completion.\n",
    "3b. The company finds that experienced workers make higher quality products, generating 3 new customers per worker per year. Inexperienced workers generate 2. Maximize customer gain. \n",
    "<!-- The corner points were (0, 0), (0, 60), (80, 0) and (30, 60).\n",
    "3a. f = 10x1 + 9x2; maximized at (30, 60) with f = 840. The company should hire 30 experienced and 60 inexperienced workers for 840 tasks per minute.\n",
    "3b. f = 3x1 + 2x2; maximized at (80, 0) with f = 240. The company should hire 80 experienced and 0 inexperienced workers for 240 customers per year.\n",
    "\n",
    "Encourage students to write, or at least think about, the meaning of the points rather than just the numerical values. \n",
    "-->\n",
    "\n",
    "## Active and Inactive Constraints\n",
    "An optimal solution that lies at the intersection point of two constraints causes both of those constraints to be considered active. \n",
    "<!-- TODO: Insert image -->\n",
    "\n",
    "If any of the constraint lines do not pass through the optimal point, those constraints are called inactive.\n",
    "\n",
    "In general, we ignore the constraints at 0 and focus on the constraints generated by limits on resources. \n",
    "An active constraint means that this factor is causing the limitation on the objective function. If an active constraint was amount of flour, then by increasing the flour available you could improve your objective. If all your constraints are active, that is good news – you are using all your resources.\n",
    "An inactive constraint means that this factor is not causing the limitation. If amount of flour was an inactive constraint, then you will have flour left over; perhaps you could use it for something else or sell it. \n"
   ]
  }
 ],
 "metadata": {
  "kernelspec": {
   "display_name": "Python 3.10.5 ('bm3-book-dev')",
   "language": "python",
   "name": "python3"
  },
  "language_info": {
   "codemirror_mode": {
    "name": "ipython",
    "version": 3
   },
   "file_extension": ".py",
   "mimetype": "text/x-python",
   "name": "python",
   "nbconvert_exporter": "python",
   "pygments_lexer": "ipython3",
   "version": "3.10.5"
  },
  "vscode": {
   "interpreter": {
    "hash": "ff86c7228ccb5bf2d6b42c2281513fe1f4b5632c02096c94f181ee5ddbd868a8"
   }
  }
 },
 "nbformat": 4,
 "nbformat_minor": 0
}
