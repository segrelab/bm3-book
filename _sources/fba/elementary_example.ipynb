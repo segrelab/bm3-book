{
 "cells": [
  {
   "cell_type": "markdown",
   "metadata": {
    "collapsed": false,
    "pycharm": {
     "name": "#%% md\n"
    }
   },
   "source": [
    "# FBA from Scratch: Elementary Example"
   ]
  },
  {
   "cell_type": "markdown",
   "metadata": {
    "collapsed": false,
    "pycharm": {
     "name": "#%% md\n"
    }
   },
   "source": [
    "This example is from Bonarius et al., \"Flux analysis of underdetermined metabolic networks: the quest for the missing constraints\", Trends in Biotechnology 1997,\n",
    "https://www.cell.com/trends/biotechnology/fulltext/S0167-7799(97)01067-6\n",
    "\n",
    "(Note: this part also contains some general purpose functions for visualization of FBA data)"
   ]
  },
  {
   "cell_type": "markdown",
   "metadata": {
    "collapsed": false,
    "pycharm": {
     "name": "#%% md\n"
    }
   },
   "source": [
    "## Import Libraries\n",
    "\n",
    "Import essential libraries, including basic numerical and graphics library and scipy optimization library."
   ]
  },
  {
   "cell_type": "code",
   "execution_count": null,
   "metadata": {
    "collapsed": true,
    "pycharm": {
     "name": "#%%\n"
    }
   },
   "outputs": [],
   "source": [
    "import numpy as np # Imports Python numerical library\n",
    "import seaborn as sns # Imports Library for drawing heatmaps\n",
    "import matplotlib.pyplot as plt # Import Library for plotting graphs\n",
    "from scipy.optimize import linprog # Imports Linear Programming function\n",
    "from scipy.optimize import linprog_verbose_callback # Imports Linear Programming function"
   ]
  },
  {
   "cell_type": "markdown",
   "metadata": {
    "collapsed": false,
    "pycharm": {
     "name": "#%% md\n"
    }
   },
   "source": [
    "## Define reaction network\n",
    "Define reaction network, i.e. stoichiometric matrix and labels of metabolites and reactions"
   ]
  },
  {
   "cell_type": "code",
   "execution_count": null,
   "metadata": {
    "collapsed": false,
    "pycharm": {
     "name": "#%%\n"
    }
   },
   "outputs": [],
   "source": [
    "# Labels of reactions:\n",
    "reacs =[\"x1\",\"x2\",\"ra\",\"rb\",\"ATPout\",\"NADHout\"]\n",
    "# Labels of metabolites:\n",
    "metabs = [\"A\",\"B\",\"ATP\",\"NADH\"]\n",
    "\n",
    "n = len(reacs) # Number of reactions\n",
    "m = len(metabs) # Number of metabolites\n",
    "\n",
    "# Define values of Stoichiometric Matrix\n",
    "S=np.array([[ -1, -1,  1,  0,  0,  0],\n",
    "            [  1,  1,  0, -1,  0,  0],\n",
    "            [  1,  0,  0,  0, -1,  0],\n",
    "            [  0,  1,  0,  0,  0, -1]])\n",
    "\n",
    "print(\"STOICHIOMETRIC MATRIX\")\n",
    "colormap = sns.color_palette(\"Greens\")\n",
    "sns.heatmap(S, annot=True,  linewidths=.5, xticklabels=reacs,yticklabels=metabs,cmap=\"PiYG\")\n",
    "plt.yticks(rotation=0)\n",
    "plt.show()"
   ]
  },
  {
   "cell_type": "markdown",
   "metadata": {
    "collapsed": false,
    "pycharm": {
     "name": "#%% md\n"
    }
   },
   "source": [
    "### Define optimization parameters\n",
    "\n",
    "Define optimization parameters, i.e. flux lower bounds (LB) and upper bounds (UB), and objective function."
   ]
  },
  {
   "cell_type": "code",
   "execution_count": null,
   "metadata": {
    "collapsed": false,
    "pycharm": {
     "name": "#%%\n"
    }
   },
   "outputs": [],
   "source": [
    "b=np.zeros(m) # Right-hand side of SV=0\n",
    "obj=np.zeros(n) # Initialize Objective function vector to zero\n",
    "LARGE = 1000 # Large number to be used as \"Infinite\" for flux bounds\n",
    "LB=0*np.ones(n) # Set of lower bounds, initialize to zero\n",
    "UB=LARGE*np.ones(n) # Set of upper bounds, initialize to LARGW\n",
    "\n",
    "# Change flow through individual reaction\n",
    "UB[2]=1\n",
    "\n",
    "LBUB = np.transpose(np.stack((LB,UB),axis=0)) # Combine LB, UB into set of pairs [LB,UB]\n",
    "\n",
    "obj[0]=-1 # Define objective function. Default of optimizer is \"minimize\", so a -1 will lead to maximization\n",
    "obj[1]=0 # Define objective function. Default of optimizer is \"minimize\", so a -1 will lead to maximization"
   ]
  },
  {
   "cell_type": "markdown",
   "metadata": {
    "collapsed": false,
    "pycharm": {
     "name": "#%% md\n"
    }
   },
   "source": [
    "## Run LP to solve FBA\n",
    "\n",
    "Perform Linear Programming (LP) calculation to solve FBA"
   ]
  },
  {
   "cell_type": "code",
   "execution_count": null,
   "metadata": {
    "collapsed": false,
    "pycharm": {
     "name": "#%%\n"
    }
   },
   "outputs": [],
   "source": [
    "print(\"IMPLEMENT OPTIMIZATION:\")\n",
    "options = {\"disp\": False}\n",
    "solution = linprog(c=obj, A_eq=S, b_eq=b, bounds=LBUB, options=options) # max c*v, given Sv=b, LB < v <UB\n",
    "#print(solution)\n",
    "# A_eq*v=b_eq --> SV=0\n",
    "\n",
    "print(\"Optimization status (0:successful; 1:Iteration limit reached; 2:Infeasible; 3:Unbounded; 4:Numerical difficulties): \",solution.status)\n",
    "print(\"Optimal value: \",solution.fun)\n",
    "print(\"Solution vector: \", solution.x)"
   ]
  },
  {
   "cell_type": "markdown",
   "metadata": {
    "collapsed": false,
    "pycharm": {
     "name": "#%% md\n"
    }
   },
   "source": [
    "## Display solution\n",
    "Visualize solution vector"
   ]
  },
  {
   "cell_type": "code",
   "execution_count": null,
   "metadata": {
    "collapsed": false,
    "pycharm": {
     "name": "#%%\n"
    }
   },
   "outputs": [],
   "source": [
    "v_pos = np.arange(n)\n",
    "plt.bar(v_pos, solution.x, align='center')\n",
    "plt.xticks(v_pos, reacs)\n",
    "plt.ylabel('Flux Value')\n",
    "plt.title('Solution Vector')\n",
    "plt.show()"
   ]
  },
  {
   "cell_type": "markdown",
   "metadata": {
    "collapsed": false,
    "pycharm": {
     "name": "#%% md\n"
    }
   },
   "source": [
    "Display list of reactions and associated fluxes"
   ]
  },
  {
   "cell_type": "code",
   "execution_count": null,
   "metadata": {
    "collapsed": false,
    "pycharm": {
     "name": "#%%\n"
    }
   },
   "outputs": [],
   "source": [
    "# TODO: import this function from GEM-utils\n",
    "pretty_print_fluxes(S,reacs,metabs,solution)"
   ]
  },
  {
   "cell_type": "markdown",
   "metadata": {
    "collapsed": false,
    "pycharm": {
     "name": "#%% md\n"
    }
   },
   "source": [
    "## Draw network with fluxes\n",
    "\n",
    "Define function for drawing graph of metabolic network, with arrow thickness proportional to fluxes"
   ]
  },
  {
   "cell_type": "code",
   "execution_count": null,
   "metadata": {
    "collapsed": false,
    "pycharm": {
     "name": "#%%\n"
    }
   },
   "outputs": [],
   "source": [
    "draw_network(S,reacs,metabs,solution)"
   ]
  },
  {
   "cell_type": "markdown",
   "metadata": {
    "collapsed": false,
    "pycharm": {
     "name": "#%% md\n"
    }
   },
   "source": [
    "## Questions\n",
    "\n",
    "1. What would happen in absence of the \"ATP out\" and \"NADH out\" reactions?\n",
    "2. What geometrical entity represents the feasible space for this problem?"
   ]
  },
  {
   "cell_type": "markdown",
   "metadata": {
    "collapsed": false,
    "pycharm": {
     "name": "#%% md\n"
    }
   },
   "source": []
  },
  {
   "cell_type": "markdown",
   "metadata": {
    "collapsed": false,
    "pycharm": {
     "name": "#%% md\n"
    }
   },
   "source": []
  }
 ],
 "metadata": {
  "kernelspec": {
   "display_name": "Python 3.10.5 ('bm3-book-dev')",
   "language": "python",
   "name": "python3"
  },
  "language_info": {
   "codemirror_mode": {
    "name": "ipython",
    "version": 2
   },
   "file_extension": ".py",
   "mimetype": "text/x-python",
   "name": "python",
   "nbconvert_exporter": "python",
   "pygments_lexer": "ipython2",
   "version": "3.10.5"
  },
  "vscode": {
   "interpreter": {
    "hash": "ff86c7228ccb5bf2d6b42c2281513fe1f4b5632c02096c94f181ee5ddbd868a8"
   }
  }
 },
 "nbformat": 4,
 "nbformat_minor": 0
}
