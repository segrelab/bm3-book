{
 "cells": [
  {
   "cell_type": "markdown",
   "metadata": {},
   "source": [
    "# DNA to FBA: Building a GEM from Scratch"
   ]
  },
  {
   "cell_type": "markdown",
   "metadata": {},
   "source": [
    "## Genome Annotations\n",
    "The first step in building a metabolic model of an organism is to identify all the genes present in that organism"
   ]
  },
  {
   "cell_type": "markdown",
   "metadata": {},
   "source": [
    "## Converting Functional Roles to Reactions\n",
    "After identifying the protein encoding genes present in the\n",
    "organism, and assigning functions to those proteins, the\n",
    "enzyme complexes that are created by those proteins must be\n",
    "characterized. EC numbers (Webb, 1992) are most often used\n",
    "when making these mappings between different repositories\n",
    "because they are the most widely applied annotation to gene\n",
    "products. "
   ]
  },
  {
   "cell_type": "markdown",
   "metadata": {},
   "source": [
    "## Converting Reactions to a Stoichiometric Matrix"
   ]
  }
 ],
 "metadata": {
  "language_info": {
   "name": "python"
  },
  "orig_nbformat": 4
 },
 "nbformat": 4,
 "nbformat_minor": 2
}
